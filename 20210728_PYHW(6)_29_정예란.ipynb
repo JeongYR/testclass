{
  "nbformat": 4,
  "nbformat_minor": 0,
  "metadata": {
    "colab": {
      "name": "20210728_PYHW(6)_29_정예란.ipynb",
      "provenance": [],
      "collapsed_sections": []
    },
    "kernelspec": {
      "name": "python3",
      "display_name": "Python 3"
    },
    "language_info": {
      "name": "python"
    }
  },
  "cells": [
    {
      "cell_type": "code",
      "metadata": {
        "colab": {
          "base_uri": "https://localhost:8080/"
        },
        "id": "vlyOgkTrxE7L",
        "outputId": "5bb91d16-c33b-4475-91aa-b811ff8a5db2"
      },
      "source": [
        "# 436 -> 정답은 C(no)\n",
        "x = ''\n",
        "if bool(x):     #bool은 참인지 거짓인지를 묻는데, x값이 아무것도 없으므로('') no출력\n",
        "  print('yes')\n",
        "else:\n",
        "  print(\"no\")"
      ],
      "execution_count": 3,
      "outputs": [
        {
          "output_type": "stream",
          "text": [
            "no\n"
          ],
          "name": "stdout"
        }
      ]
    },
    {
      "cell_type": "code",
      "metadata": {
        "colab": {
          "base_uri": "https://localhost:8080/"
        },
        "id": "NFJ8hhmtxMDl",
        "outputId": "7a644263-8404-4b08-c935-0d39d8da1781"
      },
      "source": [
        "#437 -> 정답은 B(yes)\n",
        "x = ' '\n",
        "if bool(x):                #' ' 사이에 공백이 있으므로 yes가 나옴 \n",
        "  print('yes')\n",
        "else:\n",
        "  print(\"no\")"
      ],
      "execution_count": 2,
      "outputs": [
        {
          "output_type": "stream",
          "text": [
            "yes\n"
          ],
          "name": "stdout"
        }
      ]
    },
    {
      "cell_type": "code",
      "metadata": {
        "colab": {
          "base_uri": "https://localhost:8080/"
        },
        "id": "8NW4FzlTxccq",
        "outputId": "434778ca-e093-4a59-f007-7e278325506c"
      },
      "source": [
        "#438 -> 정답은 A(no)  \n",
        "x = []                 # x가 빈 리스트이므로 no 출력\n",
        "if bool(x):\n",
        "  print('yes')\n",
        "else:\n",
        "  print(\"no\")"
      ],
      "execution_count": 4,
      "outputs": [
        {
          "output_type": "stream",
          "text": [
            "no\n"
          ],
          "name": "stdout"
        }
      ]
    },
    {
      "cell_type": "code",
      "metadata": {
        "colab": {
          "base_uri": "https://localhost:8080/"
        },
        "id": "AnV39e6RxhP5",
        "outputId": "bb777db0-c71e-4957-a87f-d6165f5df2ad"
      },
      "source": [
        "# 439 -> 정답은 B(yes)\n",
        "x = [1,2,3]\n",
        "if bool(x):             #x에 해당되는 값이 있으므로 bool(x)는 yes\n",
        "  print('yes')\n",
        "else:\n",
        "  print(\"no\")"
      ],
      "execution_count": 5,
      "outputs": [
        {
          "output_type": "stream",
          "text": [
            "yes\n"
          ],
          "name": "stdout"
        }
      ]
    },
    {
      "cell_type": "code",
      "metadata": {
        "colab": {
          "base_uri": "https://localhost:8080/"
        },
        "id": "7ZcQ1GQQxkXk",
        "outputId": "6f8282fe-00e3-49a3-837a-9b0f555d66f2"
      },
      "source": [
        "# 440 -> 정답은 A(yes)\n",
        "x = '' \n",
        "if not bool(x):     #bool(x)는 비어있어 bool(x)때 no가 프린트된다\n",
        "  print('yes')      #그런데 여기서는 no bool(x) 라고 물었기 때문에 반대로 yes가 됨 \n",
        "else:\n",
        "  print(\"no\")"
      ],
      "execution_count": 6,
      "outputs": [
        {
          "output_type": "stream",
          "text": [
            "yes\n"
          ],
          "name": "stdout"
        }
      ]
    },
    {
      "cell_type": "code",
      "metadata": {
        "colab": {
          "base_uri": "https://localhost:8080/"
        },
        "id": "ROqWzQsiyrq-",
        "outputId": "3b76be01-be7d-4bdf-a62e-27fc86731d9d"
      },
      "source": [
        "# 441 -> 정답은 C(Python)\n",
        "x = 'print(\"Python\")' \n",
        "eval(x)                    #"
      ],
      "execution_count": 8,
      "outputs": [
        {
          "output_type": "stream",
          "text": [
            "Python\n"
          ],
          "name": "stdout"
        }
      ]
    },
    {
      "cell_type": "code",
      "metadata": {
        "colab": {
          "base_uri": "https://localhost:8080/"
        },
        "id": "BnRWgK8Ty4Fi",
        "outputId": "63c2ce22-be12-4dcd-fc9c-7069afe3e08f"
      },
      "source": [
        "#442 -> 정답은 C(90)\n",
        "x = input(\"Enter an expression:\")\n",
        "print(eval(x))                      #evel은 입력된 값이 문자더라도 숫자로 변환, 식계산까지 가능"
      ],
      "execution_count": 9,
      "outputs": [
        {
          "output_type": "stream",
          "text": [
            "Enter an expression:45*2\n",
            "90\n"
          ],
          "name": "stdout"
        }
      ]
    },
    {
      "cell_type": "code",
      "metadata": {
        "colab": {
          "base_uri": "https://localhost:8080/"
        },
        "id": "oDcPeGWUzCwU",
        "outputId": "a6f70f59-e230-4236-92f5-0672b14bc1bd"
      },
      "source": [
        "# 443 -> 정답은 B (Python 3 is good )\n",
        "x = '''\n",
        "print(\"Python 3\", end='') \n",
        "print(\" is Good\")\n",
        "''' \n",
        "exec(x)                   #exec()는 큰 따옴표들 안의 식을 그대로 실행해줌"
      ],
      "execution_count": 14,
      "outputs": [
        {
          "output_type": "stream",
          "text": [
            "Python 3 is Good\n"
          ],
          "name": "stdout"
        }
      ]
    },
    {
      "cell_type": "code",
      "metadata": {
        "colab": {
          "base_uri": "https://localhost:8080/"
        },
        "id": "M0TZ7eqG1Brn",
        "outputId": "b0925f42-4151-4e5e-c3a2-4a8d58574857"
      },
      "source": [
        "#444 -> 정답은 D (c) \n",
        "# 도저히 모르겠어서 정답을 못 고름 \n",
        "a = ['a', 'b', 'c', 'A', 'B']    # 대문자가 앞에 오고 그 뒤가 소문자 순서\n",
        "print(max(a)) "
      ],
      "execution_count": 15,
      "outputs": [
        {
          "output_type": "stream",
          "text": [
            "c\n"
          ],
          "name": "stdout"
        }
      ]
    },
    {
      "cell_type": "code",
      "metadata": {
        "colab": {
          "base_uri": "https://localhost:8080/"
        },
        "id": "K75oizvh1MM4",
        "outputId": "8312dd6e-1b5f-4e7d-e2de-fa0848b41030"
      },
      "source": [
        "#445 -> 정답은 B(A)\n",
        "# 위와 마찬가지로 정답을 못 고름.\n",
        "a = ['a','b','c','A','B']    # 사전식 순서대로 A,B,a,b,c 순이기에 min(a) = A\n",
        "print(min(a))"
      ],
      "execution_count": 16,
      "outputs": [
        {
          "output_type": "stream",
          "text": [
            "A\n"
          ],
          "name": "stdout"
        }
      ]
    },
    {
      "cell_type": "code",
      "metadata": {
        "colab": {
          "base_uri": "https://localhost:8080/"
        },
        "id": "l3Vk5KfLyP7m",
        "outputId": "9725b343-7269-45db-814d-308a3f007ae3"
      },
      "source": [
        "#446 -> 정답은 D(c)\n",
        "a = ['a','b','c','1', '2','A','B']  # 숫자 - 대문자 - 소문자 순이므로 max(a)= c\n",
        "print(max(a))"
      ],
      "execution_count": 31,
      "outputs": [
        {
          "output_type": "stream",
          "text": [
            "c\n"
          ],
          "name": "stdout"
        }
      ]
    },
    {
      "cell_type": "code",
      "metadata": {
        "colab": {
          "base_uri": "https://localhost:8080/"
        },
        "id": "9r1uCbMZyeJx",
        "outputId": "80e86daa-76a9-4eb5-cd08-7b65d9107209"
      },
      "source": [
        "# 447 -> 정답은 c(1)\n",
        "a = ['a','b','c','1', '2','A','B']  # 1,2,A,B,a,b,c 순이므로 mim(a) = 1 \n",
        "print(min(a))"
      ],
      "execution_count": 17,
      "outputs": [
        {
          "output_type": "stream",
          "text": [
            "1\n"
          ],
          "name": "stdout"
        }
      ]
    },
    {
      "cell_type": "code",
      "metadata": {
        "colab": {
          "base_uri": "https://localhost:8080/"
        },
        "id": "pTCnIR6Z1Xky",
        "outputId": "525bd768-765f-4059-b56e-27a3737a2d03"
      },
      "source": [
        "# 448 -> 정답은 D(6)\n",
        "a= [1,2,3]\n",
        "\n",
        "print(sum(a))   #sum()은 값을 모두 더하는 것"
      ],
      "execution_count": 19,
      "outputs": [
        {
          "output_type": "stream",
          "text": [
            "6\n"
          ],
          "name": "stdout"
        }
      ]
    },
    {
      "cell_type": "code",
      "metadata": {
        "colab": {
          "base_uri": "https://localhost:8080/"
        },
        "id": "lSHl4h691cYB",
        "outputId": "d80f89f0-df74-4f10-c203-62fce730d3f9"
      },
      "source": [
        " #449  -> 정답은 C(18)\n",
        " a = list(range(0,10,3))   #range(0,10,3)= [0,3,6,9] 이므로 이 값을 다 더함 \n",
        " print(sum(a)) "
      ],
      "execution_count": 20,
      "outputs": [
        {
          "output_type": "stream",
          "text": [
            "18\n"
          ],
          "name": "stdout"
        }
      ]
    },
    {
      "cell_type": "code",
      "metadata": {
        "colab": {
          "base_uri": "https://localhost:8080/"
        },
        "id": "pej-fJn91qW4",
        "outputId": "adcdcd6f-772f-443a-97cf-14f10bde0152"
      },
      "source": [
        " #450 -> 정답은 B(0)\n",
        " a = list(range(10,-10,3))    # 10에서 -10으로 3마다 가야된다는 것은 말이 안되므로 없음\n",
        " print(sum(a))           "
      ],
      "execution_count": 33,
      "outputs": [
        {
          "output_type": "stream",
          "text": [
            "0\n"
          ],
          "name": "stdout"
        }
      ]
    },
    {
      "cell_type": "code",
      "metadata": {
        "colab": {
          "base_uri": "https://localhost:8080/"
        },
        "id": "PgNLzewk1stV",
        "outputId": "3b438061-5887-4bbe-d542-5072b5e65cd7"
      },
      "source": [
        "#451 -> 정답은 A(-24)\n",
        "a = list(range(-10,5,2))  # [-10, -8, -6, -4, -2, 0, 2, 4] 의 값을 다 더함\n",
        "print(sum(a)) "
      ],
      "execution_count": 24,
      "outputs": [
        {
          "output_type": "stream",
          "text": [
            "-24\n"
          ],
          "name": "stdout"
        }
      ]
    },
    {
      "cell_type": "code",
      "metadata": {
        "colab": {
          "base_uri": "https://localhost:8080/"
        },
        "id": "gJXsMF2C13KY",
        "outputId": "9f642cee-9cce-4af5-b29e-e7cc30b4d451"
      },
      "source": [
        "#452 -> 정답은 C([5,4,3,2,1])\n",
        "x = [5, 4, 3, 2, 1] \n",
        "y = x.copy()       # y = [5,4,3,2,1]로 고정됨\n",
        "x[0] = 6           #x[0]을 6으로 바꾸어도\n",
        "print(y)           # y값은 변동X "
      ],
      "execution_count": 25,
      "outputs": [
        {
          "output_type": "stream",
          "text": [
            "[5, 4, 3, 2, 1]\n"
          ],
          "name": "stdout"
        }
      ]
    },
    {
      "cell_type": "code",
      "metadata": {
        "colab": {
          "base_uri": "https://localhost:8080/"
        },
        "id": "F97b6nnk1_IN",
        "outputId": "ab2c76cd-dc53-4620-c675-7eb60ffb15d2"
      },
      "source": [
        "# 453 -> 정답은 D(5)\n",
        "import copy\n",
        "x = [5, 4, 3, 2, 1] \n",
        "y = copy.copy(x)     #copy모듈의 copy메소드 = copy.copy()는 얕은 복사이기 때문에 \n",
        "x.append(6)          # x리스트 맨뒤에 6을 추가함. \n",
        "print(y[0])          # 리스트 내부 순서는 바뀌지 않음으로 따라서 y[0]= 5가 나올 것 "
      ],
      "execution_count": 27,
      "outputs": [
        {
          "output_type": "stream",
          "text": [
            "5\n"
          ],
          "name": "stdout"
        }
      ]
    },
    {
      "cell_type": "code",
      "metadata": {
        "colab": {
          "base_uri": "https://localhost:8080/"
        },
        "id": "rknztXeu2NrI",
        "outputId": "ce09c098-5527-4fac-8eb7-41aec1ee4403"
      },
      "source": [
        "#454 -> 정답은 D(False)\n",
        "import keyword                     #키워드 모듈을 가져와서\n",
        "print(keyword.iskeyword('IS'))     # 'IS'가 기본모듈에서 지원하는 예약어 종류에 있는지 파악"
      ],
      "execution_count": 28,
      "outputs": [
        {
          "output_type": "stream",
          "text": [
            "False\n"
          ],
          "name": "stdout"
        }
      ]
    },
    {
      "cell_type": "code",
      "metadata": {
        "colab": {
          "base_uri": "https://localhost:8080/"
        },
        "id": "_-E7xu7h2avS",
        "outputId": "de2c3aac-6638-4fb9-a477-c5433adc17fa"
      },
      "source": [
        "# 455 -> 정답 A(True)\n",
        "import keyword                    # 키워드 모듈을 불러와\n",
        "print(keyword.iskeyword('for'))   # for이 기본예약어 종류에 있는지 확인(for문 있음)"
      ],
      "execution_count": 29,
      "outputs": [
        {
          "output_type": "stream",
          "text": [
            "True\n"
          ],
          "name": "stdout"
        }
      ]
    },
    {
      "cell_type": "code",
      "metadata": {
        "colab": {
          "base_uri": "https://localhost:8080/"
        },
        "id": "LfbeLUaq2f2j",
        "outputId": "a8a0fa37-7e44-44f4-a7ab-fbc337c24156"
      },
      "source": [
        "# 1~10,000 까지 8이라는 숫자가 총 몇번 나오는가? \n",
        "\n",
        "number = 0                # 일단 number의 값을 0으로 지정\n",
        "\n",
        "for i in range(10000):    # 1~10000까지의 숫자들을 하나하나 for문으로 반복 \n",
        "  for x in str(i):        # 위에서 뽑힌 요소를 str()함수로 문자화하여 하나씩 반복\n",
        "    if x == \"8\":          # 문자열 내에 8이 들어있는지 if문을 통해 순차적으로 확인\n",
        "      number += 1         # 8이 있을 때마다 number에 1씩 더해준다.\n",
        "\n",
        "print(number)             # 반복문이 끝나고 최종적으로 8이라는 숫자가 몇번 나왔는지 저장된 number 출력"
      ],
      "execution_count": 30,
      "outputs": [
        {
          "output_type": "stream",
          "text": [
            "4000\n"
          ],
          "name": "stdout"
        }
      ]
    },
    {
      "cell_type": "code",
      "metadata": {
        "id": "tmmZoEau5eBx"
      },
      "source": [
        ""
      ],
      "execution_count": null,
      "outputs": []
    }
  ]
}